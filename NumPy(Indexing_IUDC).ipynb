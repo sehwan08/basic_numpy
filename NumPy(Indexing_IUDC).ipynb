{
 "cells": [
  {
   "cell_type": "code",
   "execution_count": 1,
   "id": "99426267",
   "metadata": {},
   "outputs": [],
   "source": [
    "import numpy as np"
   ]
  },
  {
   "cell_type": "markdown",
   "id": "78dc98ec",
   "metadata": {},
   "source": [
    "### 배열 속성 정보"
   ]
  },
  {
   "cell_type": "code",
   "execution_count": 8,
   "id": "d23a692f",
   "metadata": {},
   "outputs": [],
   "source": [
    "a1 = np.array([1,2,3,4,5])"
   ]
  },
  {
   "cell_type": "code",
   "execution_count": 9,
   "id": "ac0f75d4",
   "metadata": {},
   "outputs": [],
   "source": [
    "a2 = np.array([[1,2,3],[4,5,6],[7,8,9]])"
   ]
  },
  {
   "cell_type": "code",
   "execution_count": 10,
   "id": "00beddd9",
   "metadata": {},
   "outputs": [],
   "source": [
    "a3 = np.array([ [ [1,2,3], [4,5,6], [7,8,9] ],\n",
    "             [ [10,11,12],[13,14,15],[16,17,18] ],\n",
    "             [ [19,20,21],[22,23,24],[25,26,27] ] ])"
   ]
  },
  {
   "cell_type": "code",
   "execution_count": 6,
   "id": "5d00748f",
   "metadata": {},
   "outputs": [],
   "source": [
    "def array_info(array):\n",
    "    print(array)\n",
    "    print(\"ndim:\", array.ndim) # 차원수 \n",
    "    print(\"shape:\",array.shape) # 엘리멘트 수\n",
    "    print(\"dtype:\",array.dtype) # 데이터 타입\n",
    "    print(\"size:\",array.size) # 배열안의 엘리멘트 총 개수\n",
    "    print(\"itemsize:\",array.itemsize) # 각 엘리먼트의 사이즈 (byte)\n",
    "    print(\"nbytes:\",array.nbytes) # size * itemsize = nbytes(전체 사이즈)\n",
    "    print(\"strides:\",array.strides) # 각각의 엘리멘트가 다음 엘리멘트로 갈때 필요한 바이트 수"
   ]
  },
  {
   "cell_type": "code",
   "execution_count": 7,
   "id": "ff4f8f4a",
   "metadata": {},
   "outputs": [
    {
     "name": "stdout",
     "output_type": "stream",
     "text": [
      "[1 2 3 4 5]\n",
      "ndim: 1\n",
      "shape: (5,)\n",
      "dtype: int32\n",
      "size: 5\n",
      "itemsize: 4\n",
      "nbytes: 20\n",
      "strides: (4,)\n"
     ]
    }
   ],
   "source": [
    "array_info(a1)"
   ]
  },
  {
   "cell_type": "code",
   "execution_count": 11,
   "id": "2bb35ced",
   "metadata": {},
   "outputs": [
    {
     "name": "stdout",
     "output_type": "stream",
     "text": [
      "[[1 2 3]\n",
      " [4 5 6]\n",
      " [7 8 9]]\n",
      "ndim: 2\n",
      "shape: (3, 3)\n",
      "dtype: int32\n",
      "size: 9\n",
      "itemsize: 4\n",
      "nbytes: 36\n",
      "strides: (12, 4)\n"
     ]
    }
   ],
   "source": [
    "array_info(a2)"
   ]
  },
  {
   "cell_type": "code",
   "execution_count": 12,
   "id": "3ec37f63",
   "metadata": {},
   "outputs": [
    {
     "name": "stdout",
     "output_type": "stream",
     "text": [
      "[[[ 1  2  3]\n",
      "  [ 4  5  6]\n",
      "  [ 7  8  9]]\n",
      "\n",
      " [[10 11 12]\n",
      "  [13 14 15]\n",
      "  [16 17 18]]\n",
      "\n",
      " [[19 20 21]\n",
      "  [22 23 24]\n",
      "  [25 26 27]]]\n",
      "ndim: 3\n",
      "shape: (3, 3, 3)\n",
      "dtype: int32\n",
      "size: 27\n",
      "itemsize: 4\n",
      "nbytes: 108\n",
      "strides: (36, 12, 4)\n"
     ]
    }
   ],
   "source": [
    "array_info(a3)"
   ]
  },
  {
   "cell_type": "markdown",
   "id": "2293b502",
   "metadata": {},
   "source": [
    "### 인덱싱"
   ]
  },
  {
   "cell_type": "code",
   "execution_count": 14,
   "id": "74ccb236",
   "metadata": {},
   "outputs": [
    {
     "name": "stdout",
     "output_type": "stream",
     "text": [
      "[1 2 3 4 5]\n",
      "1\n",
      "5\n"
     ]
    }
   ],
   "source": [
    "print(a1)\n",
    "print(a1[0])\n",
    "print(a1[-1])"
   ]
  },
  {
   "cell_type": "code",
   "execution_count": 20,
   "id": "f4d619c1",
   "metadata": {},
   "outputs": [
    {
     "name": "stdout",
     "output_type": "stream",
     "text": [
      "[[1 2 3]\n",
      " [4 5 6]\n",
      " [7 8 9]]\n",
      "1\n",
      "9\n",
      "6\n"
     ]
    }
   ],
   "source": [
    "print(a2)\n",
    "print(a2[0, 0])\n",
    "print(a2[2, -1])\n",
    "print(a2[1, 2])"
   ]
  },
  {
   "cell_type": "code",
   "execution_count": 21,
   "id": "f15b061f",
   "metadata": {},
   "outputs": [
    {
     "name": "stdout",
     "output_type": "stream",
     "text": [
      "[[[ 1  2  3]\n",
      "  [ 4  5  6]\n",
      "  [ 7  8  9]]\n",
      "\n",
      " [[10 11 12]\n",
      "  [13 14 15]\n",
      "  [16 17 18]]\n",
      "\n",
      " [[19 20 21]\n",
      "  [22 23 24]\n",
      "  [25 26 27]]]\n",
      "1\n",
      "23\n"
     ]
    }
   ],
   "source": [
    "print(a3)\n",
    "print(a3[0, 0, 0])\n",
    "print(a3[2, 1, 1])"
   ]
  },
  {
   "cell_type": "markdown",
   "id": "dd7035f3",
   "metadata": {},
   "source": [
    "### 슬라이싱 : a[start:stop:step]"
   ]
  },
  {
   "cell_type": "code",
   "execution_count": 23,
   "id": "f3e58a3a",
   "metadata": {},
   "outputs": [
    {
     "name": "stdout",
     "output_type": "stream",
     "text": [
      "[1 2 3 4 5]\n",
      "[1 2]\n",
      "[1 3 5]\n",
      "[5 4 3 2 1]\n"
     ]
    }
   ],
   "source": [
    "print(a1)\n",
    "print(a1[0:2])\n",
    "print(a1[::2])\n",
    "print(a1[::-1])"
   ]
  },
  {
   "cell_type": "code",
   "execution_count": 30,
   "id": "3cbb7fd9",
   "metadata": {},
   "outputs": [
    {
     "name": "stdout",
     "output_type": "stream",
     "text": [
      "[[1 2 3]\n",
      " [4 5 6]\n",
      " [7 8 9]]\n",
      "[4 5 6]\n",
      "[4 5 6]\n",
      "[[1 2]\n",
      " [4 5]]\n",
      "[[9 8 7]\n",
      " [6 5 4]\n",
      " [3 2 1]]\n"
     ]
    }
   ],
   "source": [
    "# 2차원 [가로값, 세로값]\n",
    "print(a2)\n",
    "print(a2[1])\n",
    "print(a2[1, :]) \n",
    "print(a2[:2, :2])\n",
    "print(a2[::-1, ::-1])"
   ]
  },
  {
   "cell_type": "code",
   "execution_count": 31,
   "id": "8eaad7de",
   "metadata": {
    "scrolled": true
   },
   "outputs": [
    {
     "name": "stdout",
     "output_type": "stream",
     "text": [
      "[[[ 1  2  3]\n",
      "  [ 4  5  6]\n",
      "  [ 7  8  9]]\n",
      "\n",
      " [[10 11 12]\n",
      "  [13 14 15]\n",
      "  [16 17 18]]\n",
      "\n",
      " [[19 20 21]\n",
      "  [22 23 24]\n",
      "  [25 26 27]]]\n",
      "[[10 11 12]\n",
      " [13 14 15]\n",
      " [16 17 18]]\n",
      "[[[1]]]\n"
     ]
    }
   ],
   "source": [
    "print(a3)\n",
    "print(a3[1])\n",
    "print(a3[:1, :1, :1])"
   ]
  },
  {
   "cell_type": "markdown",
   "id": "d962817e",
   "metadata": {},
   "source": [
    "### 불리언 인덱싱"
   ]
  },
  {
   "cell_type": "code",
   "execution_count": 33,
   "id": "d0bf53ff",
   "metadata": {},
   "outputs": [
    {
     "name": "stdout",
     "output_type": "stream",
     "text": [
      "[1 2 3 4 5]\n",
      "[2 3 5]\n",
      "[1 3 4]\n"
     ]
    }
   ],
   "source": [
    "print(a1)\n",
    "b1 = [False, True, True, False, True]\n",
    "print(a1[b1])\n",
    "b1 = [True, False, True, True, False]\n",
    "print(a1[b1])"
   ]
  },
  {
   "cell_type": "code",
   "execution_count": 34,
   "id": "f86a9551",
   "metadata": {},
   "outputs": [
    {
     "name": "stdout",
     "output_type": "stream",
     "text": [
      "[[1 2 3]\n",
      " [4 5 6]\n",
      " [7 8 9]]\n",
      "[[ True False False]\n",
      " [False  True  True]\n",
      " [ True  True False]]\n",
      "[1 5 6 7 8]\n"
     ]
    }
   ],
   "source": [
    "print(a2)\n",
    "b2 = np.random.randint(0, 2, (3,3), dtype = bool)\n",
    "print(b2)\n",
    "print(a2[b2])"
   ]
  },
  {
   "cell_type": "markdown",
   "id": "22f3c1a3",
   "metadata": {},
   "source": [
    "### 팬시 인덱싱(Fancy Indexing)"
   ]
  },
  {
   "cell_type": "code",
   "execution_count": 37,
   "id": "bf48f1f9",
   "metadata": {},
   "outputs": [
    {
     "name": "stdout",
     "output_type": "stream",
     "text": [
      "[1 2 3 4 5]\n",
      "[1, 3]\n",
      "[1 3]\n",
      "[[1 2]\n",
      " [3 1]]\n"
     ]
    }
   ],
   "source": [
    "print(a1)\n",
    "print([a1[0], a1[2]])\n",
    "idx = [0, 2]\n",
    "print(a1[idx])\n",
    "\n",
    "idx = np.array([[0,1],\n",
    "              [2, 0]])\n",
    "print(a1[idx])"
   ]
  },
  {
   "cell_type": "code",
   "execution_count": 40,
   "id": "0aa6862e",
   "metadata": {},
   "outputs": [
    {
     "name": "stdout",
     "output_type": "stream",
     "text": [
      "[[1 2 3]\n",
      " [4 5 6]\n",
      " [7 8 9]]\n",
      "[2 9]\n",
      "[[1 2 3]\n",
      " [7 8 9]]\n",
      "[[2 3]\n",
      " [5 6]\n",
      " [8 9]]\n"
     ]
    }
   ],
   "source": [
    "print(a2)\n",
    "row = np.array([0,2]) #(가로값, 세로값)\n",
    "col = np.array([1,2])\n",
    "print(a2[row, col])\n",
    "print(a2[row, :])\n",
    "print(a2[:, col])\n"
   ]
  },
  {
   "cell_type": "markdown",
   "id": "efd11316",
   "metadata": {},
   "source": [
    "### 배열 IUDC"
   ]
  },
  {
   "cell_type": "code",
   "execution_count": null,
   "id": "629cdab6",
   "metadata": {},
   "outputs": [],
   "source": [
    "# 삽입"
   ]
  },
  {
   "cell_type": "code",
   "execution_count": 44,
   "id": "98d09291",
   "metadata": {},
   "outputs": [
    {
     "name": "stdout",
     "output_type": "stream",
     "text": [
      "[1 2 3 4 5]\n",
      "[10  1  2  3  4  5]\n",
      "[1 2 3 4 5]\n",
      "[ 1  2 10  3  4  5]\n"
     ]
    }
   ],
   "source": [
    "# insert() : 배열의 특정 위치에 값 삽입. axis 없이 지정시 1차원 배열로 변환\n",
    "# 원본 배열에 변경 없이 새로운 값을 넣어 반환\n",
    "print(a1)\n",
    "b1 = np.insert(a1, 0, 10) #insert(원본배열, 인덱싱값, 원하는 숫자)\n",
    "print(b1)\n",
    "print(a1)\n",
    "c1 = np.insert(a1, 2, 10)\n",
    "print(c1)"
   ]
  },
  {
   "cell_type": "code",
   "execution_count": 47,
   "id": "46805065",
   "metadata": {},
   "outputs": [
    {
     "name": "stdout",
     "output_type": "stream",
     "text": [
      "[[1 2 3]\n",
      " [4 5 6]\n",
      " [7 8 9]]\n",
      "[[ 1  2  3]\n",
      " [10 10 10]\n",
      " [ 4  5  6]\n",
      " [ 7  8  9]]\n",
      "[[ 1  2  3 10]\n",
      " [ 4  5  6 10]\n",
      " [ 7  8  9 10]]\n"
     ]
    }
   ],
   "source": [
    "print(a2)\n",
    "b2 = np.insert(a2, 1, 10, axis=0)\n",
    "print(b2)\n",
    "c2 = np.insert(a2, 3, 10, axis=1)\n",
    "print(c2)"
   ]
  },
  {
   "cell_type": "code",
   "execution_count": null,
   "id": "84e321d3",
   "metadata": {},
   "outputs": [],
   "source": [
    "# 수정"
   ]
  },
  {
   "cell_type": "code",
   "execution_count": 48,
   "id": "0de43f3a",
   "metadata": {},
   "outputs": [
    {
     "name": "stdout",
     "output_type": "stream",
     "text": [
      "[1 2 3 4 5]\n",
      "[ 3  2  3 10  5]\n",
      "[ 9  2  3 10  5]\n"
     ]
    }
   ],
   "source": [
    "print(a1)\n",
    "a1[0] = 3\n",
    "a1[3] = 10\n",
    "print(a1)\n",
    "\n",
    "a1[:1] = 9\n",
    "print(a1)"
   ]
  },
  {
   "cell_type": "code",
   "execution_count": 51,
   "id": "1d8a26e6",
   "metadata": {},
   "outputs": [
    {
     "name": "stdout",
     "output_type": "stream",
     "text": [
      "[9 0 3 0 0]\n",
      "[9 4 3 4 4]\n"
     ]
    }
   ],
   "source": [
    "i = np.array([1, 3, 4])\n",
    "a1[i] = 0\n",
    "print(a1)\n",
    "a1[i] += 4\n",
    "print(a1)"
   ]
  },
  {
   "cell_type": "code",
   "execution_count": 53,
   "id": "c80de6fa",
   "metadata": {},
   "outputs": [
    {
     "name": "stdout",
     "output_type": "stream",
     "text": [
      "[[1 1 1]\n",
      " [4 3 6]\n",
      " [7 8 9]]\n",
      "[[1 1 1]\n",
      " [4 3 6]\n",
      " [7 8 9]]\n",
      "[[1 3 1]\n",
      " [4 3 3]\n",
      " [7 8 9]]\n"
     ]
    }
   ],
   "source": [
    "print(a2)\n",
    "a2[0, 0] = 1\n",
    "a2[1, 1] = 3\n",
    "a2[0] = 1\n",
    "print(a2)\n",
    "row = np.array([0,1])\n",
    "col = np.array([1,2])\n",
    "a2[row, col] = 3\n",
    "print(a2)"
   ]
  },
  {
   "cell_type": "code",
   "execution_count": null,
   "id": "575bc231",
   "metadata": {},
   "outputs": [],
   "source": [
    "# 삭제"
   ]
  },
  {
   "cell_type": "code",
   "execution_count": 54,
   "id": "ac70e637",
   "metadata": {},
   "outputs": [],
   "source": [
    "# delete() : 배열의 특정 위치에 값 삭제. axis를 지정 하지 않으면 1차원 배열로 반환\n",
    "# 똑같이 원본 배열 변경없이 새로운 배열 반환. "
   ]
  },
  {
   "cell_type": "code",
   "execution_count": 55,
   "id": "77d47e1b",
   "metadata": {},
   "outputs": [
    {
     "name": "stdout",
     "output_type": "stream",
     "text": [
      "[9 4 3 4 4]\n",
      "[9 3 4 4]\n",
      "[9 4 3 4 4]\n"
     ]
    }
   ],
   "source": [
    "print(a1)\n",
    "b1 = np.delete(a1, 1)\n",
    "print(b1)\n",
    "print(a1)"
   ]
  },
  {
   "cell_type": "code",
   "execution_count": 64,
   "id": "1deaa13e",
   "metadata": {},
   "outputs": [
    {
     "name": "stdout",
     "output_type": "stream",
     "text": [
      "[[1 3 1]\n",
      " [4 3 3]\n",
      " [7 8 9]]\n",
      "[[1 1]\n",
      " [4 3]\n",
      " [7 9]]\n",
      "[[1 3 1]\n",
      " [7 8 9]]\n"
     ]
    }
   ],
   "source": [
    "print(a2)\n",
    "b2 = np.delete(a2, 1, axis=1)\n",
    "print(b2)\n",
    "c2 = np.delete(a2, 1, axis=0)\n",
    "print(c2)"
   ]
  },
  {
   "cell_type": "code",
   "execution_count": 65,
   "id": "4d1d976e",
   "metadata": {},
   "outputs": [],
   "source": [
    "# 복사"
   ]
  },
  {
   "cell_type": "code",
   "execution_count": 70,
   "id": "04ab51c2",
   "metadata": {},
   "outputs": [
    {
     "name": "stdout",
     "output_type": "stream",
     "text": [
      "[[1 0 1]\n",
      " [4 0 3]\n",
      " [7 8 9]]\n",
      "[[1 0]\n",
      " [4 0]]\n",
      "\n",
      "[[1 0]\n",
      " [4 0]]\n",
      "[[1 1]\n",
      " [4 1]]\n",
      "[[1 1 1]\n",
      " [4 1 3]\n",
      " [7 8 9]]\n"
     ]
    }
   ],
   "source": [
    "# 배열 복사 - 리스트 자료형과 달리 배열의 슬라이스는 복사본이 아님. 원본의 값도 바뀜\n",
    "print(a2)\n",
    "print(a2[:2, :2])\n",
    "print()\n",
    "\n",
    "a2_sub = a2[:2, :2]\n",
    "print(a2_sub)\n",
    "a2_sub[:, 1] = 1\n",
    "print(a2_sub)\n",
    "print(a2)\n"
   ]
  },
  {
   "cell_type": "code",
   "execution_count": 72,
   "id": "3630aacd",
   "metadata": {},
   "outputs": [
    {
     "name": "stdout",
     "output_type": "stream",
     "text": [
      "[[1 1 1]\n",
      " [4 1 3]\n",
      " [7 8 9]]\n",
      "[[1 1]\n",
      " [4 1]]\n",
      "[[1 1]\n",
      " [4 1]]\n",
      "[[1 1 1]\n",
      " [4 1 3]\n",
      " [7 8 9]]\n"
     ]
    }
   ],
   "source": [
    "# copy() : 배열이나 하위 배열 내의 값을 명시적으로 복사\n",
    "print(a2)\n",
    "a2_sub_copy = a2[:2, :2].copy()\n",
    "print(a2_sub_copy)\n",
    "a2_sub_copy[:, 1] = 1\n",
    "print(a2_sub_copy)\n",
    "print(a2)"
   ]
  },
  {
   "cell_type": "code",
   "execution_count": null,
   "id": "194c4e97",
   "metadata": {},
   "outputs": [],
   "source": []
  },
  {
   "cell_type": "code",
   "execution_count": null,
   "id": "e1f779a4",
   "metadata": {},
   "outputs": [],
   "source": []
  },
  {
   "cell_type": "code",
   "execution_count": null,
   "id": "9c09e15d",
   "metadata": {},
   "outputs": [],
   "source": []
  },
  {
   "cell_type": "code",
   "execution_count": null,
   "id": "d72c01d8",
   "metadata": {},
   "outputs": [],
   "source": []
  },
  {
   "cell_type": "code",
   "execution_count": null,
   "id": "602c20dd",
   "metadata": {},
   "outputs": [],
   "source": []
  },
  {
   "cell_type": "code",
   "execution_count": null,
   "id": "ee0a33ea",
   "metadata": {},
   "outputs": [],
   "source": []
  }
 ],
 "metadata": {
  "kernelspec": {
   "display_name": "Python 3 (ipykernel)",
   "language": "python",
   "name": "python3"
  },
  "language_info": {
   "codemirror_mode": {
    "name": "ipython",
    "version": 3
   },
   "file_extension": ".py",
   "mimetype": "text/x-python",
   "name": "python",
   "nbconvert_exporter": "python",
   "pygments_lexer": "ipython3",
   "version": "3.10.0"
  }
 },
 "nbformat": 4,
 "nbformat_minor": 5
}
