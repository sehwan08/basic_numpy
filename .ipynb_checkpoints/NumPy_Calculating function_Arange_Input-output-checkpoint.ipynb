{
 "cells": [
  {
   "cell_type": "code",
   "execution_count": 1,
   "id": "8715aabf",
   "metadata": {},
   "outputs": [],
   "source": [
    "import numpy as np"
   ]
  },
  {
   "cell_type": "code",
   "execution_count": 3,
   "id": "f77502e0",
   "metadata": {},
   "outputs": [
    {
     "name": "stdout",
     "output_type": "stream",
     "text": [
      "[[3 3 1]\n",
      " [1 9 8]\n",
      " [6 1 2]]\n",
      "34 34\n",
      "[10 13 11] [ 7 18  9]\n"
     ]
    }
   ],
   "source": [
    "# sum() : 합계\n",
    "a2 = np.random.randint(1, 10, size=(3,3))\n",
    "print(a2)\n",
    "print(a2.sum(), np.sum(a2))\n",
    "print(a2.sum(axis=0), np.sum(a2,axis=1))"
   ]
  },
  {
   "cell_type": "code",
   "execution_count": 5,
   "id": "d3ea8a07",
   "metadata": {},
   "outputs": [
    {
     "name": "stdout",
     "output_type": "stream",
     "text": [
      "[[6 2 2]\n",
      " [9 8 6]\n",
      " [1 1 8]]\n",
      "[ 6  8 10 19 27 33 34 35 43]\n",
      "[[ 6  8 10]\n",
      " [ 9 17 23]\n",
      " [ 1  2 10]]\n",
      "[[ 6  2  2]\n",
      " [15 10  8]\n",
      " [16 11 16]]\n"
     ]
    }
   ],
   "source": [
    "# cumsum() : 누적합 계산\n",
    "print(a2)\n",
    "print(np.cumsum(a2))\n",
    "print(np.cumsum(a2, axis=1))\n",
    "print(np.cumsum(a2, axis=0))"
   ]
  },
  {
   "cell_type": "code",
   "execution_count": 6,
   "id": "b3aadf3e",
   "metadata": {},
   "outputs": [
    {
     "name": "stdout",
     "output_type": "stream",
     "text": [
      "[[6 2 2]\n",
      " [9 8 6]\n",
      " [1 1 8]]\n",
      "[[-4  0]\n",
      " [-1 -2]\n",
      " [ 0  7]]\n",
      "[[-4  0]\n",
      " [-1 -2]\n",
      " [ 0  7]]\n",
      "[[ 3  6  4]\n",
      " [-8 -7  2]]\n"
     ]
    }
   ],
   "source": [
    "# diff() : 차분 계산\n",
    "print(a2)\n",
    "print(np.diff(a2))\n",
    "print(np.diff(a2, axis=1))\n",
    "print(np.diff(a2, axis=0))"
   ]
  },
  {
   "cell_type": "code",
   "execution_count": 8,
   "id": "c5710b4e",
   "metadata": {},
   "outputs": [
    {
     "name": "stdout",
     "output_type": "stream",
     "text": [
      "[[6 2 2]\n",
      " [9 8 6]\n",
      " [1 1 8]]\n",
      "82944\n",
      "[ 24 432   8]\n",
      "[54 16 96]\n",
      "[    6    12    24   216  1728 10368 10368 10368 82944]\n"
     ]
    }
   ],
   "source": [
    "# prod() : 곱 계산 / cumprod : 누적 곱 계산\n",
    "print(a2)\n",
    "print(np.prod(a2))\n",
    "print(np.prod(a2, axis=1))\n",
    "print(np.prod(a2, axis=0))\n",
    "print(np.cumprod(a2))"
   ]
  },
  {
   "cell_type": "code",
   "execution_count": 9,
   "id": "8a55f267",
   "metadata": {},
   "outputs": [
    {
     "name": "stdout",
     "output_type": "stream",
     "text": [
      "[[6 2 2]\n",
      " [9 8 6]\n",
      " [1 1 8]]\n",
      "[[1 1 1]\n",
      " [1 1 1]\n",
      " [1 1 1]]\n",
      "[[10 10 10]\n",
      " [23 23 23]\n",
      " [10 10 10]]\n",
      "[[10 10 10]\n",
      " [23 23 23]\n",
      " [10 10 10]]\n"
     ]
    }
   ],
   "source": [
    "# dot()/matmul() : 점곱/행렬곱 계산\n",
    "print(a2)\n",
    "b2 = np.ones_like(a2)\n",
    "print(b2)\n",
    "print(np.dot(a2,b2))\n",
    "print(np.matmul(a2, b2))"
   ]
  },
  {
   "cell_type": "code",
   "execution_count": 10,
   "id": "84a0027d",
   "metadata": {},
   "outputs": [
    {
     "name": "stdout",
     "output_type": "stream",
     "text": [
      "43\n"
     ]
    }
   ],
   "source": [
    "# tensordot() : 텐서곱 계산 # 축 설정 가능 \n",
    "print(np.tensordot(a2, b2))"
   ]
  },
  {
   "cell_type": "code",
   "execution_count": 12,
   "id": "12747846",
   "metadata": {},
   "outputs": [
    {
     "name": "stdout",
     "output_type": "stream",
     "text": [
      "[-3  6 -3]\n"
     ]
    }
   ],
   "source": [
    "# cross() : 벡터곱\n",
    "x = [1,2,3]\n",
    "y = [4,5,6]\n",
    "print(np.cross(x,y)) \n",
    "# 6 * 2 - 3 * 5 / 3 * 4 - 6 / 4 * 2 - 5 "
   ]
  },
  {
   "cell_type": "code",
   "execution_count": 13,
   "id": "443dfc34",
   "metadata": {},
   "outputs": [
    {
     "name": "stdout",
     "output_type": "stream",
     "text": [
      "[[6 2 2]\n",
      " [9 8 6]\n",
      " [1 1 8]]\n",
      "[[1 1 1]\n",
      " [1 1 1]\n",
      " [1 1 1]]\n",
      "[[10 10 10]\n",
      " [23 23 23]\n",
      " [10 10 10]]\n",
      "[[6 6 6 6 6 6 6 6 6]\n",
      " [2 2 2 2 2 2 2 2 2]\n",
      " [2 2 2 2 2 2 2 2 2]\n",
      " [9 9 9 9 9 9 9 9 9]\n",
      " [8 8 8 8 8 8 8 8 8]\n",
      " [6 6 6 6 6 6 6 6 6]\n",
      " [1 1 1 1 1 1 1 1 1]\n",
      " [1 1 1 1 1 1 1 1 1]\n",
      " [8 8 8 8 8 8 8 8 8]]\n"
     ]
    }
   ],
   "source": [
    "# inner()/outer() : 내적/외적\n",
    "print(a2)\n",
    "print(b2)\n",
    "print(np.inner(a2, b2))\n",
    "print(np.outer(a2, b2))\n"
   ]
  },
  {
   "cell_type": "code",
   "execution_count": 15,
   "id": "8fed7c46",
   "metadata": {},
   "outputs": [
    {
     "name": "stdout",
     "output_type": "stream",
     "text": [
      "[[6 2 2]\n",
      " [9 8 6]\n",
      " [1 1 8]]\n",
      "4.777777777777778\n"
     ]
    }
   ],
   "source": [
    "# mean() : 평균 계산 , 축 설정 가능\n",
    "print(a2)\n",
    "print(np.mean(a2))"
   ]
  },
  {
   "cell_type": "code",
   "execution_count": 16,
   "id": "d6953484",
   "metadata": {},
   "outputs": [
    {
     "name": "stdout",
     "output_type": "stream",
     "text": [
      "[[6 2 2]\n",
      " [9 8 6]\n",
      " [1 1 8]]\n",
      "3.083208205669246\n"
     ]
    }
   ],
   "source": [
    "# std() : 표준 편차, 축 설정 가능\n",
    "print(a2)\n",
    "print(np.std(a2))"
   ]
  },
  {
   "cell_type": "code",
   "execution_count": 17,
   "id": "c5c60485",
   "metadata": {},
   "outputs": [
    {
     "name": "stdout",
     "output_type": "stream",
     "text": [
      "[[6 2 2]\n",
      " [9 8 6]\n",
      " [1 1 8]]\n",
      "9.506172839506172\n"
     ]
    }
   ],
   "source": [
    "# var() : 분산 계산\n",
    "print(a2)\n",
    "print(np.var(a2))"
   ]
  },
  {
   "cell_type": "code",
   "execution_count": 18,
   "id": "a2dc98a3",
   "metadata": {},
   "outputs": [
    {
     "name": "stdout",
     "output_type": "stream",
     "text": [
      "[[6 2 2]\n",
      " [9 8 6]\n",
      " [1 1 8]]\n",
      "1 9\n"
     ]
    }
   ],
   "source": [
    "# min() / max() : 최소/최대\n",
    "print(a2)\n",
    "print(np.min(a2), np.max(a2))"
   ]
  },
  {
   "cell_type": "code",
   "execution_count": 19,
   "id": "0ed934dd",
   "metadata": {},
   "outputs": [
    {
     "name": "stdout",
     "output_type": "stream",
     "text": [
      "[[6 2 2]\n",
      " [9 8 6]\n",
      " [1 1 8]]\n",
      "6 3\n"
     ]
    }
   ],
   "source": [
    "# argmin() / argmax() : 최소/최대값 인덱스\n",
    "print(a2)\n",
    "print(np.argmin(a2), np.argmax(a2))"
   ]
  },
  {
   "cell_type": "code",
   "execution_count": 20,
   "id": "46f1a38b",
   "metadata": {},
   "outputs": [
    {
     "name": "stdout",
     "output_type": "stream",
     "text": [
      "[[6 2 2]\n",
      " [9 8 6]\n",
      " [1 1 8]]\n",
      "6.0\n"
     ]
    }
   ],
   "source": [
    "# median() : 중앙값\n",
    "print(a2)\n",
    "print(np.median(a2))\n"
   ]
  },
  {
   "cell_type": "code",
   "execution_count": 22,
   "id": "49ee0af0",
   "metadata": {},
   "outputs": [
    {
     "name": "stdout",
     "output_type": "stream",
     "text": [
      "[0 1 2 3]\n",
      "[0.  0.6 1.2 1.8 2.4 3. ]\n"
     ]
    }
   ],
   "source": [
    "# percentile() : 백분위 수\n",
    "a1 = np.array([0,1,2,3])\n",
    "print(a1)\n",
    "print(np.percentile(a1, [0,20,40,60,80,100], interpolation='linear'))"
   ]
  },
  {
   "cell_type": "code",
   "execution_count": 23,
   "id": "b85f4721",
   "metadata": {},
   "outputs": [
    {
     "name": "stdout",
     "output_type": "stream",
     "text": [
      "True\n",
      "False\n"
     ]
    }
   ],
   "source": [
    "# any() / all () \n",
    "# - 배열 위치에 하나라도 True가 있으면 True (any)\n",
    "# - 배열 위치에 모두가 같아야 True\n",
    "\n",
    "a2 = np.array([[False, False, True],\n",
    "             [True, True, True],\n",
    "               [False, True, True]])\n",
    "print(np.any(a2))\n",
    "print(np.all(a2))"
   ]
  },
  {
   "cell_type": "code",
   "execution_count": 25,
   "id": "e5aee81f",
   "metadata": {},
   "outputs": [
    {
     "name": "stdout",
     "output_type": "stream",
     "text": [
      "[1 2 3 4 5 6 7 8 9]\n",
      "[False False False False  True False False False False]\n",
      "[ True  True  True  True False  True  True  True  True]\n",
      "[ True  True  True  True False False False False False]\n"
     ]
    }
   ],
   "source": [
    "# 비교 연산 \n",
    "a1 = np.arange(1, 10)\n",
    "print(a1)\n",
    "print(a1 == 5)\n",
    "print(a1 != 5)\n",
    "print(a1 < 5)"
   ]
  },
  {
   "cell_type": "code",
   "execution_count": 26,
   "id": "e5ae91e4",
   "metadata": {},
   "outputs": [],
   "source": [
    "#배열 정렬"
   ]
  },
  {
   "cell_type": "code",
   "execution_count": 28,
   "id": "56bec4be",
   "metadata": {},
   "outputs": [
    {
     "name": "stdout",
     "output_type": "stream",
     "text": [
      "[8 9 1 7 2 4 5 9 3 2]\n",
      "[1 2 2 3 4 5 7 8 9 9]\n",
      "[2 4 9 8 5 6 3 0 1 7]\n"
     ]
    }
   ],
   "source": [
    "a1 = np.random.randint(1, 10, size=10)\n",
    "print(a1)\n",
    "print(np.sort(a1))\n",
    "print(np.argsort(a1)) #배열 내 값을 오름차순으로 하는 위치를 반환"
   ]
  },
  {
   "cell_type": "code",
   "execution_count": 29,
   "id": "589ae818",
   "metadata": {},
   "outputs": [
    {
     "name": "stdout",
     "output_type": "stream",
     "text": [
      "[5 2 1 3 3 9 3 6 3 3]\n",
      "[1 2 3 3 3 3 9 6 3 5]\n"
     ]
    }
   ],
   "source": [
    "# partition() : 배열에서 k개의 작은 값을 반환 , 축 및 차원 조정 가능 \n",
    "a1 = np.random.randint(1, 10, size=10)\n",
    "print(a1)\n",
    "print(np.partition(a1, 3)) #partition(배열, 이값보다 작은 값 출력) - default 로 3개를 맨 앞에 출력"
   ]
  },
  {
   "cell_type": "code",
   "execution_count": 30,
   "id": "fa4ea680",
   "metadata": {},
   "outputs": [],
   "source": [
    "# 배열 입출력"
   ]
  },
  {
   "cell_type": "code",
   "execution_count": 32,
   "id": "78bcf71d",
   "metadata": {},
   "outputs": [],
   "source": [
    "a2 = np.random.randint(1, 10, size=(5, 5))\n",
    "np.save(\"a\", a2)"
   ]
  },
  {
   "cell_type": "code",
   "execution_count": null,
   "id": "cb37e2e6",
   "metadata": {},
   "outputs": [],
   "source": []
  },
  {
   "cell_type": "code",
   "execution_count": null,
   "id": "ac94ee6d",
   "metadata": {},
   "outputs": [],
   "source": []
  },
  {
   "cell_type": "code",
   "execution_count": null,
   "id": "79c9c265",
   "metadata": {},
   "outputs": [],
   "source": []
  },
  {
   "cell_type": "code",
   "execution_count": null,
   "id": "0a6df4fb",
   "metadata": {},
   "outputs": [],
   "source": []
  },
  {
   "cell_type": "code",
   "execution_count": null,
   "id": "96402f15",
   "metadata": {},
   "outputs": [],
   "source": []
  },
  {
   "cell_type": "code",
   "execution_count": null,
   "id": "079a5a62",
   "metadata": {},
   "outputs": [],
   "source": []
  },
  {
   "cell_type": "code",
   "execution_count": null,
   "id": "38d3d658",
   "metadata": {},
   "outputs": [],
   "source": []
  }
 ],
 "metadata": {
  "kernelspec": {
   "display_name": "Python 3 (ipykernel)",
   "language": "python",
   "name": "python3"
  },
  "language_info": {
   "codemirror_mode": {
    "name": "ipython",
    "version": 3
   },
   "file_extension": ".py",
   "mimetype": "text/x-python",
   "name": "python",
   "nbconvert_exporter": "python",
   "pygments_lexer": "ipython3",
   "version": "3.10.0"
  }
 },
 "nbformat": 4,
 "nbformat_minor": 5
}
